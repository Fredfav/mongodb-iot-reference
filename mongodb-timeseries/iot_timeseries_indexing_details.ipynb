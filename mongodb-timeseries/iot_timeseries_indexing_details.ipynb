{
 "cells": [
  {
   "cell_type": "markdown",
   "metadata": {},
   "source": [
    "# IoT Microdemos\n",
    "\n",
    "\n",
    "## Indexing Strategy\n",
    "\n",
    "A proper indexing strategy is key for efficient querying of data. The first index is mandatory for efficient time series queries in historical data. The second one is needed for efficient retreival of the current, i.e. open, bucket for each device. If all device types have the same bucket size, it can be created as a partial index - this will only keep the open buckets in the index. For varying bucket sizes, e.g. per device type, the type could be added to the index. The savings can be huge for large implementations."
   ]
  },
  {
   "cell_type": "code",
   "execution_count": null,
   "metadata": {
    "collapsed": true
   },
   "outputs": [],
   "source": [
    "import pymongo\n",
    "import os\n",
    "import datetime\n",
    "import bson\n",
    "from bson.json_util import loads, dumps, RELAXED_JSON_OPTIONS\n",
    "import random\n",
    "from pprint import pprint\n",
    "\n",
    "CONNECTIONSTRING = \"localhost:27017\"\n",
    "\n",
    "# Establish Database Connection\n",
    "client = pymongo.MongoClient(CONNECTIONSTRING)\n",
    "db = client.iot\n",
    "collection = db.iot_raw"
   ]
  },
  {
   "cell_type": "code",
   "execution_count": null,
   "metadata": {},
   "outputs": [],
   "source": [
    "# Efficient queries per device and timespan\n",
    "result = collection.create_index([(\"device\",pymongo.ASCENDING),\n",
    "                         (\"min_ts\",pymongo.ASCENDING),\n",
    "                         (\"max_ts\",pymongo.ASCENDING)])\n",
    "print(\"Created Index: \" + result)\n",
    "\n",
    "# Efficient retreival of open buckets per device\n",
    "result = collection.create_index([(\"device\",pymongo.ASCENDING),\n",
    "                         (\"cnt\",pymongo.ASCENDING)],\n",
    "                        partialFilterExpression={\"cnt\": {\"$lt\":3}})\n",
    "print(\"Created Index: \" + result)"
   ]
  },
  {
   "cell_type": "markdown",
   "metadata": {},
   "source": [
    "### Index usage during ingestion\n",
    "\n",
    "The execution trace below shows that the index based on `device` and `cnt` is used: An exact match on device and traversal from 0 to 3 for cnt:\n",
    "```\n",
    "'indexBounds': {\n",
    "    'cnt': ['[-inf.0, 3)'], \n",
    "    'device': ['[4711, 4711]']\n",
    "}\n",
    "```\n",
    "\n",
    "This will be a very efficinent operation, as there is usually only one open bucket per device. Only a few keys are examined in the index and exactly one document is returned:\n",
    "```\n",
    "'keysExamined': 1,\n",
    "'nReturned': 1\n",
    "```"
   ]
  },
  {
   "cell_type": "code",
   "execution_count": null,
   "metadata": {},
   "outputs": [],
   "source": [
    "result = db.command(\"explain\", \n",
    "                    { \n",
    "                        \"find\": collection.name,\n",
    "                        \"filter\":{\n",
    "                            \"device\": 4711,\n",
    "                            \"cnt\": { \"$lt\": 3 }\n",
    "                        }\n",
    "                    }, \n",
    "                    verbosity=\"executionStats\"\n",
    "                   )\n",
    "\n",
    "pprint(result[\"executionStats\"][\"executionStages\"])"
   ]
  },
  {
   "cell_type": "markdown",
   "metadata": {},
   "source": [
    "### Index Usage for Querying Data\n",
    "\n",
    "The same holds true for identifying and querying the buckets of interest."
   ]
  },
  {
   "cell_type": "code",
   "execution_count": null,
   "metadata": {
    "pycharm": {
     "is_executing": false,
     "name": "#%%\n"
    }
   },
   "outputs": [],
   "source": [
    "LOWER_BOUND = datetime.datetime(2020, 4, 17, 14, 35, 13, 779000) # Replace with lower bound (copy & paste from results above)\n",
    "UPPER_BOUND = datetime.datetime(2020, 4, 17, 14, 35, 18, 575000) # Replace with upper bound (copy & paste from results above)\n",
    "\n",
    "result = db.command(\"explain\", \n",
    "                    { \n",
    "                        \"find\": collection.name,\n",
    "                        \"filter\":{\n",
    "                            \"device\": 4711,\n",
    "                            \"min_ts\": { \"$lte\": UPPER_BOUND },\n",
    "                            \"max_ts\": { \"$gte\": LOWER_BOUND }\n",
    "                        }\n",
    "                    }, \n",
    "                    verbosity=\"executionStats\"\n",
    "                   )\n",
    "\n",
    "pprint(result[\"executionStats\"][\"executionStages\"])"
   ]
  },
  {
   "cell_type": "code",
   "execution_count": null,
   "metadata": {
    "collapsed": true
   },
   "outputs": [],
   "source": []
  }
 ],
 "metadata": {
  "kernelspec": {
   "display_name": "Python 3",
   "language": "python",
   "name": "python3"
  },
  "language_info": {
   "codemirror_mode": {
    "name": "ipython",
    "version": 3
   },
   "file_extension": ".py",
   "mimetype": "text/x-python",
   "name": "python",
   "nbconvert_exporter": "python",
   "pygments_lexer": "ipython3",
   "version": "3.6.3"
  },
  "pycharm": {
   "stem_cell": {
    "cell_type": "raw",
    "metadata": {
     "collapsed": false
    },
    "source": []
   }
  }
 },
 "nbformat": 4,
 "nbformat_minor": 1
}
